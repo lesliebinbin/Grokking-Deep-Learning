{
 "cells": [
  {
   "cell_type": "code",
   "execution_count": null,
   "metadata": {},
   "outputs": [],
   "source": [
    "%matplotlib inline\n",
    "import numpy as np\n",
    "import pandas as pd\n",
    "import matplotlib.pyplot as plt\n",
    "import seaborn as sns"
   ]
  },
  {
   "cell_type": "code",
   "execution_count": null,
   "metadata": {},
   "outputs": [],
   "source": [
    "weight = .5\n",
    "input = .5\n",
    "goal_prediction = .8"
   ]
  },
  {
   "cell_type": "code",
   "execution_count": null,
   "metadata": {},
   "outputs": [],
   "source": [
    "step_amount = .001\n",
    "for iteration in range(1101):\n",
    "    prediction = input * weight\n",
    "    error = (prediction - goal_prediction) ** 2\n",
    "    print(f\"Error: {error}, Prediction: {prediction}\")\n",
    "    up_prediction = input * (weight+step_amount)\n",
    "    down_prediction = input * (weight-step_amount)\n",
    "    up_error = (up_prediction - goal_prediction) ** 2\n",
    "    down_error = (down_prediction - goal_prediction) ** 2\n",
    "    if(down_error < up_error):\n",
    "        weight -= step_amount\n",
    "    if(down_error > up_error):\n",
    "        weight += step_amount"
   ]
  },
  {
   "cell_type": "code",
   "execution_count": 6,
   "metadata": {},
   "outputs": [],
   "source": [
    "weight, goal_pred, input = .0, .8, .5"
   ]
  },
  {
   "cell_type": "code",
   "execution_count": 7,
   "metadata": {},
   "outputs": [
    {
     "name": "stdout",
     "output_type": "stream",
     "text": [
      "Error: 0.6400000000000001, Prediction: 0.0\n",
      "Error: 0.3600000000000001, Prediction: 0.2\n",
      "Error: 0.2025, Prediction: 0.35000000000000003\n",
      "Error: 0.11390625000000001, Prediction: 0.4625\n"
     ]
    }
   ],
   "source": [
    "for iteration in range(4):\n",
    "    pred = input * weight\n",
    "    error= (pred - goal_pred) ** 2\n",
    "    delta = pred - goal_pred\n",
    "    weight_delta = (pred - goal_pred) * input\n",
    "    weight -= weight_delta\n",
    "    print(f\"Error: {error}, Prediction: {pred}\")"
   ]
  },
  {
   "cell_type": "code",
   "execution_count": 8,
   "metadata": {},
   "outputs": [],
   "source": [
    "weight = .5\n",
    "goal_pred = .8\n",
    "input = 2\n",
    "alpha = .1"
   ]
  },
  {
   "cell_type": "code",
   "execution_count": 9,
   "metadata": {},
   "outputs": [
    {
     "name": "stdout",
     "output_type": "stream",
     "text": [
      "Error: 0.03999999999999998, Prediction: 1.0\n",
      "Error: 0.0144, Prediction: 0.92\n",
      "Error: 0.005183999999999993, Prediction: 0.872\n",
      "Error: 0.0018662400000000014, Prediction: 0.8432000000000001\n",
      "Error: 0.0006718464000000028, Prediction: 0.8259200000000001\n",
      "Error: 0.00024186470400000033, Prediction: 0.815552\n",
      "Error: 8.70712934399997e-05, Prediction: 0.8093312\n",
      "Error: 3.134566563839939e-05, Prediction: 0.80559872\n",
      "Error: 1.1284439629823931e-05, Prediction: 0.803359232\n",
      "Error: 4.062398266736526e-06, Prediction: 0.8020155392\n",
      "Error: 1.4624633760252567e-06, Prediction: 0.8012093235200001\n",
      "Error: 5.264868153690924e-07, Prediction: 0.8007255941120001\n",
      "Error: 1.8953525353291194e-07, Prediction: 0.8004353564672001\n",
      "Error: 6.82326912718715e-08, Prediction: 0.8002612138803201\n",
      "Error: 2.456376885786678e-08, Prediction: 0.8001567283281921\n",
      "Error: 8.842956788836216e-09, Prediction: 0.8000940369969153\n",
      "Error: 3.1834644439835434e-09, Prediction: 0.8000564221981492\n",
      "Error: 1.1460471998340758e-09, Prediction: 0.8000338533188895\n",
      "Error: 4.125769919393652e-10, Prediction: 0.8000203119913337\n",
      "Error: 1.485277170987127e-10, Prediction: 0.8000121871948003\n"
     ]
    }
   ],
   "source": [
    "for iteration in range(20):\n",
    "    pred = input * weight\n",
    "    error = (pred - goal_pred) ** 2\n",
    "    derivative = input * (pred - goal_pred)\n",
    "    weight = weight - (alpha * derivative)\n",
    "    print(f\"Error: {error}, Prediction: {pred}\")\n"
   ]
  },
  {
   "cell_type": "code",
   "execution_count": null,
   "metadata": {},
   "outputs": [],
   "source": []
  }
 ],
 "metadata": {
  "kernelspec": {
   "display_name": "Python 3",
   "language": "python",
   "name": "python3"
  },
  "language_info": {
   "codemirror_mode": {
    "name": "ipython",
    "version": 3
   },
   "file_extension": ".py",
   "mimetype": "text/x-python",
   "name": "python",
   "nbconvert_exporter": "python",
   "pygments_lexer": "ipython3",
   "version": "3.12.0"
  }
 },
 "nbformat": 4,
 "nbformat_minor": 2
}

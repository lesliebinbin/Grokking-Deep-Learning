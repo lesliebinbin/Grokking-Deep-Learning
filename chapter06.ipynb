{
 "cells": [
  {
   "cell_type": "code",
   "execution_count": null,
   "metadata": {},
   "outputs": [],
   "source": [
    "%matplotlib inline"
   ]
  },
  {
   "cell_type": "code",
   "execution_count": null,
   "metadata": {},
   "outputs": [],
   "source": [
    "import numpy as np\n",
    "import pandas as pd\n",
    "import matplotlib.pyplot as plt\n",
    "import seaborn as sns"
   ]
  },
  {
   "cell_type": "code",
   "execution_count": null,
   "metadata": {},
   "outputs": [],
   "source": [
    "streetlights = np.array( [ [ 1, 0, 1 ],\n",
    "[ 0, 1, 1 ],\n",
    "[ 0, 0, 1 ],\n",
    "[ 1, 1, 1 ],\n",
    "[ 0, 1, 1 ],\n",
    "[ 1, 0, 1 ] ] )"
   ]
  },
  {
   "cell_type": "code",
   "execution_count": null,
   "metadata": {},
   "outputs": [],
   "source": [
    "walk_vs_stop = np.array( [ [ 0 ],\n",
    "[ 1 ],\n",
    "[ 0 ],\n",
    "[ 1 ],\n",
    "[ 1 ],\n",
    "[ 0 ] ] )"
   ]
  },
  {
   "cell_type": "code",
   "execution_count": null,
   "metadata": {},
   "outputs": [],
   "source": [
    "weights = np.array([.5, .48, -.7])"
   ]
  },
  {
   "cell_type": "code",
   "execution_count": null,
   "metadata": {},
   "outputs": [],
   "source": [
    "alpha = .1"
   ]
  },
  {
   "cell_type": "code",
   "execution_count": null,
   "metadata": {},
   "outputs": [],
   "source": [
    "streetlights = np.array([\n",
    "    [ 1, 0, 1 ],\n",
    "    [ 0, 1, 1 ],\n",
    "    [ 0, 0, 1 ],\n",
    "    [ 1, 1, 1 ],\n",
    "    [ 0, 1, 1 ],\n",
    "    [ 1, 0, 1 ] \n",
    "])"
   ]
  },
  {
   "cell_type": "code",
   "execution_count": null,
   "metadata": {},
   "outputs": [],
   "source": [
    "walk_vs_stop = np.array([ 0, 1, 0, 1, 1, 0 ])"
   ]
  },
  {
   "cell_type": "code",
   "execution_count": null,
   "metadata": {},
   "outputs": [],
   "source": [
    "input = streetlights[0]\n",
    "goal_prediction = walk_vs_stop[0]"
   ]
  },
  {
   "cell_type": "code",
   "execution_count": null,
   "metadata": {},
   "outputs": [],
   "source": [
    "alpha = 0.1\n",
    "streetlights = np.array( [[ 1, 0, 1 ],\n",
    "[ 0, 1, 1 ],\n",
    "[ 0, 0, 1 ],\n",
    "[ 1, 1, 1 ],\n",
    "[ 0, 1, 1 ],\n",
    "[ 1, 0, 1 ] ] )\n",
    "walk_vs_stop = np.array( [ 0, 1, 0, 1, 1, 0 ] )\n",
    "input = streetlights[0]\n",
    "goal_prediction = walk_vs_stop[0]\n",
    "for iteration in range(20):\n",
    "    prediction = input @ weights\n",
    "    error = (prediction - goal_prediction) ** 2\n",
    "    delta = prediction - goal_prediction\n",
    "    weights = weights - (alpha * (input * delta))"
   ]
  },
  {
   "cell_type": "code",
   "execution_count": null,
   "metadata": {},
   "outputs": [],
   "source": [
    "original_weights = np.array([0.5,0.48,-0.7])"
   ]
  },
  {
   "cell_type": "code",
   "execution_count": null,
   "metadata": {},
   "outputs": [],
   "source": [
    "streetlights = np.array( [[ 1, 0, 1 ],\n",
    "[ 0, 1, 1 ],\n",
    "[ 0, 0, 1 ],\n",
    "[ 1, 1, 1 ],\n",
    "[ 0, 1, 1 ],\n",
    "[ 1, 0, 1 ]] )"
   ]
  },
  {
   "cell_type": "code",
   "execution_count": null,
   "metadata": {},
   "outputs": [],
   "source": [
    "streetlights"
   ]
  },
  {
   "cell_type": "code",
   "execution_count": null,
   "metadata": {},
   "outputs": [],
   "source": []
  },
  {
   "cell_type": "code",
   "execution_count": null,
   "metadata": {},
   "outputs": [],
   "source": [
    "weights = original_weights.copy()\n",
    "alpha = 0.1\n",
    "walk_vs_stop = np.array( [ 0, 1, 0, 1, 1, 0 ] )\n",
    "for iteration in range(40):\n",
    "    error_for_all_lights = 0\n",
    "    for row_index in range(len(walk_vs_stop)):\n",
    "        input = streetlights[row_index]\n",
    "        goal_prediction = walk_vs_stop[row_index]\n",
    "        prediction = input @ weights\n",
    "        error = (goal_prediction - prediction) ** 2\n",
    "        error_for_all_lights += error\n",
    "        delta = prediction - goal_prediction\n",
    "        weights = weights - (alpha * (input * delta))\n",
    "        print(\"Prediction:\" + str(prediction))\n",
    "    print(\"Error:\" + str(error_for_all_lights) + \"\\n\")"
   ]
  },
  {
   "cell_type": "code",
   "execution_count": null,
   "metadata": {},
   "outputs": [],
   "source": [
    "weights"
   ]
  },
  {
   "cell_type": "code",
   "execution_count": null,
   "metadata": {},
   "outputs": [],
   "source": [
    "def relu(x): return (x > 0) * x"
   ]
  },
  {
   "cell_type": "code",
   "execution_count": null,
   "metadata": {},
   "outputs": [],
   "source": [
    "alpha = .2\n",
    "hidden_size = 4"
   ]
  },
  {
   "cell_type": "code",
   "execution_count": null,
   "metadata": {},
   "outputs": [],
   "source": [
    "streetlights = np.array( [[ 1, 0, 1 ],\n",
    "[ 0, 1, 1 ],\n",
    "[ 0, 0, 1 ],\n",
    "[ 1, 1, 1 ] ] )\n",
    "walk_vs_stop = np.array([ 1, 1, 0, 0]).reshape(-1, 1)"
   ]
  },
  {
   "cell_type": "code",
   "execution_count": null,
   "metadata": {},
   "outputs": [],
   "source": [
    "np.random.seed(1)\n",
    "weights_0_1 = 2 * np.random.random((3, hidden_size)) - 1\n",
    "weights_1_2 = 2 * np.random.random((hidden_size, 1))"
   ]
  },
  {
   "cell_type": "code",
   "execution_count": null,
   "metadata": {},
   "outputs": [],
   "source": [
    "layer_0 = streetlights[0]"
   ]
  },
  {
   "cell_type": "code",
   "execution_count": null,
   "metadata": {},
   "outputs": [],
   "source": [
    "layer_1 = relu(layer_0 @ weights_0_1)"
   ]
  },
  {
   "cell_type": "code",
   "execution_count": null,
   "metadata": {},
   "outputs": [],
   "source": [
    "layer_2 = layer_1 @ weights_1_2"
   ]
  },
  {
   "cell_type": "code",
   "execution_count": null,
   "metadata": {},
   "outputs": [],
   "source": [
    "layer_2"
   ]
  },
  {
   "cell_type": "code",
   "execution_count": null,
   "metadata": {},
   "outputs": [],
   "source": [
    "def relu_deriv(x):\n",
    "    return x > 0"
   ]
  },
  {
   "cell_type": "code",
   "execution_count": null,
   "metadata": {},
   "outputs": [],
   "source": []
  },
  {
   "cell_type": "code",
   "execution_count": null,
   "metadata": {},
   "outputs": [],
   "source": [
    "np.random.seed(1)\n",
    "alpha = 0.2\n",
    "hidden_size = 4\n",
    "weights_0_1 = 2*np.random.random((3,hidden_size)) - 1\n",
    "weights_1_2 = 2*np.random.random((hidden_size,1)) - 1\n",
    "for iteration in range(60):\n",
    "    layer_2_error = 0\n",
    "    for i in range(streetlights.shape[0]):\n",
    "        layer_0 = streetlights[i:i+1]\n",
    "        layer_1 = relu(layer_0 @ weights_0_1)\n",
    "        layer_2 = layer_1 @ weights_1_2\n",
    "        layer_2_error += np.sum((layer_2 - walk_vs_stop[i:i+1]) ** 2)\n",
    "        layer_2_delta = layer_2 - walk_vs_stop[i:i+1]\n",
    "        layer_1_delta = layer_2_delta @ weights_1_2.T * relu_deriv(layer_1)\n",
    "        weights_1_2 -= alpha * layer_1.T @ layer_2_delta\n",
    "        weights_0_1 -= alpha * layer_0.T @ layer_1_delta"
   ]
  },
  {
   "cell_type": "code",
   "execution_count": null,
   "metadata": {},
   "outputs": [],
   "source": [
    "np.random.seed(1)\n",
    "def relu(x):\n",
    "    return (x > 0) * x\n",
    "def relu2deriv(output):\n",
    "    return output>0\n",
    "streetlights = np.array( [[ 1, 0, 1 ],\n",
    "[ 0, 1, 1 ],\n",
    "[ 0, 0, 1 ],\n",
    "[ 1, 1, 1 ] ] )\n",
    "walk_vs_stop = np.array([[ 1, 1, 0, 0]]).T\n",
    "alpha = 0.2\n",
    "hidden_size = 4\n",
    "weights_0_1 = 2*np.random.random((3,hidden_size)) - 1\n",
    "weights_1_2 = 2*np.random.random((hidden_size,1)) - 1\n",
    "for iteration in range(60):\n",
    "    layer_2_error = 0\n",
    "    for i in range(len(streetlights)):\n",
    "        layer_0 = streetlights[i:i+1]\n",
    "        layer_1 = relu(np.dot(layer_0,weights_0_1))\n",
    "        layer_2 = np.dot(layer_1,weights_1_2)\n",
    "        layer_2_error += np.sum((layer_2 - walk_vs_stop[i:i+1]) ** 2)\n",
    "        layer_2_delta = (layer_2 - walk_vs_stop[i:i+1])\n",
    "        layer_1_delta=layer_2_delta.dot(weights_1_2.T)*relu2deriv(layer_1)\n",
    "        weights_1_2 -= alpha * layer_1.T.dot(layer_2_delta)\n",
    "        weights_0_1 -= alpha * layer_0.T.dot(layer_1_delta)\n",
    "    if(iteration % 10 == 9):\n",
    "        print(\"Error:\" + str(layer_2_error))"
   ]
  },
  {
   "cell_type": "code",
   "execution_count": null,
   "metadata": {},
   "outputs": [],
   "source": []
  },
  {
   "cell_type": "code",
   "execution_count": null,
   "metadata": {},
   "outputs": [],
   "source": []
  }
 ],
 "metadata": {
  "kernelspec": {
   "display_name": "Python 3",
   "language": "python",
   "name": "python3"
  },
  "language_info": {
   "codemirror_mode": {
    "name": "ipython",
    "version": 3
   },
   "file_extension": ".py",
   "mimetype": "text/x-python",
   "name": "python",
   "nbconvert_exporter": "python",
   "pygments_lexer": "ipython3",
   "version": "3.12.4"
  }
 },
 "nbformat": 4,
 "nbformat_minor": 2
}

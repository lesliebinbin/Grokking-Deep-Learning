{
 "cells": [
  {
   "cell_type": "code",
   "execution_count": 1,
   "metadata": {},
   "outputs": [],
   "source": [
    "%matplotlib inline\n",
    "import numpy as np\n",
    "import pandas as pd\n",
    "import matplotlib.pyplot as plt\n",
    "import seaborn as sns"
   ]
  },
  {
   "cell_type": "code",
   "execution_count": 2,
   "metadata": {},
   "outputs": [],
   "source": [
    "def relu(x): return (x>0) * x"
   ]
  },
  {
   "cell_type": "code",
   "execution_count": 3,
   "metadata": {},
   "outputs": [],
   "source": [
    "def relu_derivative(x): return x > 0"
   ]
  },
  {
   "cell_type": "code",
   "execution_count": 4,
   "metadata": {},
   "outputs": [],
   "source": [
    "def tanh(x): return np.tanh(x)\n",
    "def tanh_derivative(output): return 1.0 - output**2"
   ]
  },
  {
   "cell_type": "code",
   "execution_count": 5,
   "metadata": {},
   "outputs": [],
   "source": [
    "def softmax(x):\n",
    "    temp = np.exp(x)\n",
    "    return temp / np.sum(temp, axis=1, keepdims=True)"
   ]
  },
  {
   "cell_type": "code",
   "execution_count": 6,
   "metadata": {},
   "outputs": [],
   "source": [
    "alpha, iterations, hidden_size = (0.005, 300, 100)\n",
    "pixels_per_image, num_labels = (784, 10)"
   ]
  },
  {
   "cell_type": "code",
   "execution_count": 7,
   "metadata": {},
   "outputs": [],
   "source": [
    "from torchvision.datasets import MNIST\n",
    "train_dataset = MNIST(root='./data', train=True, download=True)\n",
    "test_dataset = MNIST(root='./data', train=False, download=True)\n",
    "import torch.nn.functional as F\n",
    "x_train, y_train, x_test, y_test = train_dataset.data / 255., F.one_hot(train_dataset.targets, num_classes=10), test_dataset.data / 255., F.one_hot(test_dataset.targets, num_classes=10)\n",
    "x_train = x_train.reshape(-1, 28 ** 2)\n",
    "x_test = x_test.reshape(-1, 28 ** 2)\n",
    "images, labels = x_train.numpy(), y_train.numpy()\n",
    "test_images, test_labels = x_test.numpy(), y_test.numpy()"
   ]
  },
  {
   "cell_type": "code",
   "execution_count": 8,
   "metadata": {},
   "outputs": [],
   "source": [
    "images = images[:1000]\n",
    "labels = labels[:1000]"
   ]
  },
  {
   "cell_type": "code",
   "execution_count": 10,
   "metadata": {},
   "outputs": [
    {
     "name": "stdout",
     "output_type": "stream",
     "text": [
      "\n",
      "I:0 Test-Err:2.371 Test-Acc:0.5606 Train-Err:0.749 Train-Acc:0.498\n",
      "\n",
      "I:10 Test-Err:62.90 Test-Acc:0.5906 Train-Err:0.158 Train-Acc:0.901\n",
      "\n",
      "I:20 Test-Err:260.4 Test-Acc:0.1069 Train-Err:0.316 Train-Acc:0.776\n",
      "\n",
      "I:30 Test-Err:60382 Test-Acc:0.0617 Train-Err:1.051 Train-Acc:0.084\n",
      "\n",
      "I:40 Test-Err:12674 Test-Acc:0.0982 Train-Err:0.957 Train-Acc:0.087\n",
      "\n",
      "I:50 Test-Err:14147 Test-Acc:0.1017 Train-Err:0.958 Train-Acc:0.086\n",
      "\n",
      "I:60 Test-Err:18394 Test-Acc:0.1926 Train-Err:0.953 Train-Acc:0.099\n",
      "\n",
      "I:70 Test-Err:25396 Test-Acc:0.0358 Train-Err:0.960 Train-Acc:0.092\n",
      "\n",
      "I:80 Test-Err:36530 Test-Acc:0.0283 Train-Err:0.960 Train-Acc:0.081\n",
      "\n",
      "I:90 Test-Err:51100 Test-Acc:0.0958 Train-Err:0.960 Train-Acc:0.08\n",
      "\n",
      "I:100 Test-Err:49828 Test-Acc:0.0958 Train-Err:0.957 Train-Acc:0.095\n",
      "\n",
      "I:110 Test-Err:40013 Test-Acc:0.101 Train-Err:0.956 Train-Acc:0.098\n",
      "\n",
      "I:120 Test-Err:48825 Test-Acc:0.1029 Train-Err:0.955 Train-Acc:0.095\n",
      "\n",
      "I:130 Test-Err:54961 Test-Acc:0.1111 Train-Err:0.957 Train-Acc:0.1\n"
     ]
    }
   ],
   "source": [
    "np.random.seed(1)\n",
    "weights_0_1 = 0.2*np.random.random((pixels_per_image,hidden_size)) - 0.1\n",
    "weights_1_2 = 0.2*np.random.random((hidden_size,num_labels)) - 0.1\n",
    "for j in range(iterations):\n",
    "    error, correct_cnt = 0, 0\n",
    "    for i in range(images.shape[0]):\n",
    "        layer_0 = images[i:i+1]\n",
    "        layer_1 = tanh(layer_0 @ weights_0_1)\n",
    "        dropout_mask = np.random.randint(2, size=layer_1.shape)\n",
    "        layer_1 *= dropout_mask * 2\n",
    "        layer_2 = softmax(layer_1 @ weights_1_2)\n",
    "        error += np.sum((labels[i:i+1] - layer_2) ** 2)\n",
    "        correct_cnt += int(np.argmax(layer_2) ==  np.argmax(labels[i:i+1]))\n",
    "        layer_2_delta = layer_2 - labels[i:i+1]\n",
    "        layer_1_delta = layer_2_delta @ weights_1_2.T * tanh_derivative(layer_1)\n",
    "        layer_1_delta *= dropout_mask\n",
    "        weights_1_2 -= layer_1.T @ layer_2_delta * alpha\n",
    "        weights_0_1 -= layer_0.T @ layer_1_delta * alpha\n",
    "    if(j%10 == 0):\n",
    "        test_error = 0.0\n",
    "        test_correct_cnt = 0\n",
    "        for i in range(len(test_images)):\n",
    "            layer_0 = test_images[i:i+1]\n",
    "            layer_1 = relu(np.dot(layer_0,weights_0_1))\n",
    "            layer_2 = np.dot(layer_1, weights_1_2)\n",
    "            test_error += np.sum((test_labels[i:i+1] - layer_2) ** 2)\n",
    "            test_correct_cnt += int(np.argmax(layer_2) == np.argmax(test_labels[i:i+1]))\n",
    "        print(\"\\n\" + \\\n",
    "        \"I:\" + str(j) + \\\n",
    "        \" Test-Err:\" + str(test_error/ float(len(test_images)))[0:5] +\\\n",
    "        \" Test-Acc:\" + str(test_correct_cnt/ float(len(test_images)))+\\\n",
    "        \" Train-Err:\" + str(error/ float(len(images)))[0:5] +\\\n",
    "        \" Train-Acc:\" + str(correct_cnt/ float(len(images))))"
   ]
  },
  {
   "cell_type": "code",
   "execution_count": null,
   "metadata": {},
   "outputs": [],
   "source": []
  },
  {
   "cell_type": "code",
   "execution_count": null,
   "metadata": {},
   "outputs": [],
   "source": []
  }
 ],
 "metadata": {
  "kernelspec": {
   "display_name": "Python 3",
   "language": "python",
   "name": "python3"
  },
  "language_info": {
   "codemirror_mode": {
    "name": "ipython",
    "version": 3
   },
   "file_extension": ".py",
   "mimetype": "text/x-python",
   "name": "python",
   "nbconvert_exporter": "python",
   "pygments_lexer": "ipython3",
   "version": "3.12.0"
  }
 },
 "nbformat": 4,
 "nbformat_minor": 2
}
